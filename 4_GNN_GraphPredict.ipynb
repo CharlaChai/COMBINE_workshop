{
  "cells": [
    {
      "cell_type": "markdown",
      "metadata": {
        "id": "view-in-github",
        "colab_type": "text"
      },
      "source": [
        "<a href=\"https://colab.research.google.com/github/CharlaChai/COMBINE_workshop/blob/main/4_GNN_GraphPredict.ipynb\" target=\"_parent\"><img src=\"https://colab.research.google.com/assets/colab-badge.svg\" alt=\"Open In Colab\"/></a>"
      ]
    },
    {
      "cell_type": "markdown",
      "id": "6d7a24c5",
      "metadata": {
        "id": "6d7a24c5"
      },
      "source": [
        "# Notebook Details\n",
        "\n",
        "- Understand the functioning of GNN through node prediction task"
      ]
    },
    {
      "cell_type": "code",
      "execution_count": 1,
      "id": "0c5fd921",
      "metadata": {
        "id": "0c5fd921",
        "outputId": "ac6e3b58-67de-4050-a24c-b99394e27bc3",
        "colab": {
          "base_uri": "https://localhost:8080/",
          "height": 108
        }
      },
      "outputs": [
        {
          "output_type": "error",
          "ename": "SyntaxError",
          "evalue": "invalid syntax (ipython-input-1-12021084.py, line 2)",
          "traceback": [
            "\u001b[0;36m  File \u001b[0;32m\"/tmp/ipython-input-1-12021084.py\"\u001b[0;36m, line \u001b[0;32m2\u001b[0m\n\u001b[0;31m    pip install torch torch_geometric\u001b[0m\n\u001b[0m        ^\u001b[0m\n\u001b[0;31mSyntaxError\u001b[0m\u001b[0;31m:\u001b[0m invalid syntax\n"
          ]
        }
      ],
      "source": [
        "### Install dependencies\n",
        "pip install torch torch_geometric"
      ]
    },
    {
      "cell_type": "code",
      "execution_count": null,
      "id": "a154b8ab",
      "metadata": {
        "id": "a154b8ab"
      },
      "outputs": [],
      "source": [
        "import torch\n",
        "import torch.nn as nn\n",
        "import torch.optim as optim\n",
        "import torch.nn.functional as F\n",
        "from torch_geometric.data import Data, DataLoader\n",
        "from torch_geometric.nn import global_mean_pool, GCNConv\n",
        "import numpy as np\n",
        "import networkx as nx"
      ]
    },
    {
      "cell_type": "code",
      "execution_count": null,
      "id": "5250a429",
      "metadata": {
        "id": "5250a429"
      },
      "outputs": [],
      "source": [
        "# Function to create random graphs with binary labels\n",
        "def generate_random_graphs(num_graphs, num_nodes_range, num_edges_range):\n",
        "    graphs = []\n",
        "    labels = []\n",
        "    for _ in range(num_graphs):\n",
        "        num_nodes = np.random.randint(*num_nodes_range)\n",
        "        num_edges = np.random.randint(*num_edges_range)\n",
        "\n",
        "        G = nx.gnm_random_graph(num_nodes, num_edges)\n",
        "        edge_index = torch.tensor(list(G.edges), dtype=torch.long).t().contiguous()\n",
        "\n",
        "        # Create node features (e.g., random or constant features)\n",
        "        x = torch.randn((num_nodes, 10))  # 16 features per node\n",
        "\n",
        "        # Assign a binary label to the entire graph\n",
        "        y = torch.tensor([np.random.choice([0, 1])], dtype=torch.long)\n",
        "\n",
        "        # Append to list as Data object\n",
        "        data = Data(x=x, edge_index=edge_index, y=y)\n",
        "        graphs.append(data)\n",
        "        labels.append(y.item())\n",
        "\n",
        "    return graphs, labels"
      ]
    },
    {
      "cell_type": "code",
      "execution_count": null,
      "id": "cf7a9b71",
      "metadata": {
        "id": "cf7a9b71"
      },
      "outputs": [],
      "source": [
        "# Generate random graphs\n",
        "num_graphs = 100\n",
        "num_nodes_range = (20, 50)\n",
        "num_edges_range = (30, 75)\n",
        "graphs, labels = generate_random_graphs(num_graphs, num_nodes_range, num_edges_range)\n"
      ]
    },
    {
      "cell_type": "code",
      "execution_count": null,
      "id": "a14c2c5d",
      "metadata": {
        "id": "a14c2c5d"
      },
      "outputs": [],
      "source": [
        "# Create a DataLoader\n",
        "loader = DataLoader(graphs, batch_size=10, shuffle=True)\n"
      ]
    },
    {
      "cell_type": "code",
      "execution_count": null,
      "id": "809f98c5",
      "metadata": {
        "id": "809f98c5"
      },
      "outputs": [],
      "source": [
        "# Define a GNN model\n",
        "class GraphGNN(nn.Module):\n",
        "    def __init__(self, num_node_features, hidden_channels, num_classes):\n",
        "        super(GraphGNN, self).__init__()\n",
        "        self.conv1 = GCNConv(num_node_features, hidden_channels)\n",
        "        self.conv2 = GCNConv(hidden_channels, hidden_channels)\n",
        "        self.lin = nn.Linear(hidden_channels, num_classes)\n",
        "\n",
        "    def forward(self, x, edge_index, batch):\n",
        "        # Apply graph convolution layers\n",
        "        x = self.conv1(x, edge_index)\n",
        "        x = F.relu(x)\n",
        "        x = self.conv2(x, edge_index)\n",
        "\n",
        "        # Apply global pooling to obtain graph-level representation\n",
        "        x = global_mean_pool(x, batch)\n",
        "\n",
        "        # Apply final linear layer\n",
        "        out = self.lin(x)\n",
        "        return out\n",
        "\n",
        "# Training function\n",
        "def train():\n",
        "    model.train()\n",
        "    for data in loader:\n",
        "        optimizer.zero_grad()\n",
        "        out = model(data.x, data.edge_index, data.batch)\n",
        "        loss = criterion(out, data.y)\n",
        "        loss.backward()\n",
        "        optimizer.step()\n",
        "\n",
        "# Testing function\n",
        "def test(loader):\n",
        "    model.eval()\n",
        "    correct = 0\n",
        "    for data in loader:\n",
        "        with torch.no_grad():\n",
        "            out = model(data.x, data.edge_index, data.batch)\n",
        "            pred = out.argmax(dim=1)\n",
        "            correct += pred.eq(data.y).sum().item()\n",
        "    return correct / len(loader.dataset)\n"
      ]
    },
    {
      "cell_type": "code",
      "execution_count": null,
      "id": "bc458271",
      "metadata": {
        "id": "bc458271"
      },
      "outputs": [],
      "source": [
        "# Initialize model, optimizer, and loss function\n",
        "model = GraphGNN(num_node_features=10, hidden_channels=32, num_classes=2)\n",
        "optimizer = optim.Adam(model.parameters(), lr=0.01)\n",
        "criterion = nn.CrossEntropyLoss()"
      ]
    },
    {
      "cell_type": "code",
      "execution_count": null,
      "id": "90eee874",
      "metadata": {
        "id": "90eee874",
        "outputId": "598d3f64-a8e6-432d-ea07-54249aeb235c"
      },
      "outputs": [
        {
          "name": "stdout",
          "output_type": "stream",
          "text": [
            "Epoch: 010, Test Accuracy: 0.8000\n",
            "Epoch: 020, Test Accuracy: 0.9200\n",
            "Epoch: 030, Test Accuracy: 0.9700\n",
            "Epoch: 040, Test Accuracy: 1.0000\n",
            "Epoch: 050, Test Accuracy: 1.0000\n",
            "Epoch: 060, Test Accuracy: 0.9900\n",
            "Epoch: 070, Test Accuracy: 1.0000\n",
            "Epoch: 080, Test Accuracy: 1.0000\n",
            "Epoch: 090, Test Accuracy: 1.0000\n",
            "Epoch: 100, Test Accuracy: 1.0000\n",
            "Epoch: 110, Test Accuracy: 1.0000\n",
            "Epoch: 120, Test Accuracy: 1.0000\n",
            "Epoch: 130, Test Accuracy: 1.0000\n",
            "Epoch: 140, Test Accuracy: 1.0000\n",
            "Epoch: 150, Test Accuracy: 1.0000\n",
            "Epoch: 160, Test Accuracy: 1.0000\n",
            "Epoch: 170, Test Accuracy: 1.0000\n",
            "Epoch: 180, Test Accuracy: 1.0000\n",
            "Epoch: 190, Test Accuracy: 1.0000\n",
            "Epoch: 200, Test Accuracy: 1.0000\n"
          ]
        }
      ],
      "source": [
        "# Train the model\n",
        "for epoch in range(1, 201):\n",
        "    train()\n",
        "    if epoch % 10 == 0:\n",
        "        acc = test(loader)\n",
        "        print(f'Epoch: {epoch:03d}, Test Accuracy: {acc:.4f}')"
      ]
    },
    {
      "cell_type": "code",
      "execution_count": null,
      "id": "30bfdd60",
      "metadata": {
        "id": "30bfdd60"
      },
      "outputs": [],
      "source": []
    }
  ],
  "metadata": {
    "kernelspec": {
      "display_name": "Python 3",
      "language": "python",
      "name": "python3"
    },
    "language_info": {
      "codemirror_mode": {
        "name": "ipython",
        "version": 3
      },
      "file_extension": ".py",
      "mimetype": "text/x-python",
      "name": "python",
      "nbconvert_exporter": "python",
      "pygments_lexer": "ipython3",
      "version": "3.10.17"
    },
    "colab": {
      "provenance": [],
      "include_colab_link": true
    }
  },
  "nbformat": 4,
  "nbformat_minor": 5
}